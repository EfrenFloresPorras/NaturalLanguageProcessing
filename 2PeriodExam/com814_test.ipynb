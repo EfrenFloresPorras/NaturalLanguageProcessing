{
  "nbformat": 4,
  "nbformat_minor": 0,
  "metadata": {
    "colab": {
      "provenance": []
    },
    "kernelspec": {
      "name": "python3",
      "display_name": "Python 3"
    },
    "language_info": {
      "name": "python"
    }
  },
  "cells": [
    {
      "cell_type": "code",
      "execution_count": 2,
      "metadata": {
        "id": "c3fg4EeI66f5"
      },
      "outputs": [],
      "source": [
        "import warnings\n",
        "warnings.filterwarnings(\"ignore\")\n",
        "import numpy as np # to use numpy arrays instead of lists\n",
        "import pandas as pd # DataFrame (table)\n",
        "import matplotlib.pyplot as plt # to plot\n",
        "from sklearn.model_selection import train_test_split"
      ]
    },
    {
      "cell_type": "code",
      "source": [
        "import tensorflow as tf\n",
        "from tensorflow.keras.preprocessing.text import Tokenizer\n",
        "from tensorflow.keras.preprocessing.sequence import pad_sequences\n",
        "from tensorflow.keras.models import Sequential\n",
        "from tensorflow.keras.layers import Embedding, Dense, Flatten\n",
        "from tensorflow.keras.layers import Conv1D, AveragePooling1D\n",
        "from tensorflow.keras.callbacks import EarlyStopping\n",
        "!pip install keras-tuner # Install keras-tuner\n",
        "import keras_tuner as kt # Now import keras_tuner"
      ],
      "metadata": {
        "id": "xb8w5kU47cJf",
        "colab": {
          "base_uri": "https://localhost:8080/"
        },
        "outputId": "6bed7a06-ce70-4bb9-ce17-e9df64854336"
      },
      "execution_count": 3,
      "outputs": [
        {
          "output_type": "stream",
          "name": "stdout",
          "text": [
            "Collecting keras-tuner\n",
            "  Downloading keras_tuner-1.4.7-py3-none-any.whl.metadata (5.4 kB)\n",
            "Requirement already satisfied: keras in /usr/local/lib/python3.10/dist-packages (from keras-tuner) (3.4.1)\n",
            "Requirement already satisfied: packaging in /usr/local/lib/python3.10/dist-packages (from keras-tuner) (24.1)\n",
            "Requirement already satisfied: requests in /usr/local/lib/python3.10/dist-packages (from keras-tuner) (2.32.3)\n",
            "Collecting kt-legacy (from keras-tuner)\n",
            "  Downloading kt_legacy-1.0.5-py3-none-any.whl.metadata (221 bytes)\n",
            "Requirement already satisfied: absl-py in /usr/local/lib/python3.10/dist-packages (from keras->keras-tuner) (1.4.0)\n",
            "Requirement already satisfied: numpy in /usr/local/lib/python3.10/dist-packages (from keras->keras-tuner) (1.26.4)\n",
            "Requirement already satisfied: rich in /usr/local/lib/python3.10/dist-packages (from keras->keras-tuner) (13.9.2)\n",
            "Requirement already satisfied: namex in /usr/local/lib/python3.10/dist-packages (from keras->keras-tuner) (0.0.8)\n",
            "Requirement already satisfied: h5py in /usr/local/lib/python3.10/dist-packages (from keras->keras-tuner) (3.11.0)\n",
            "Requirement already satisfied: optree in /usr/local/lib/python3.10/dist-packages (from keras->keras-tuner) (0.13.0)\n",
            "Requirement already satisfied: ml-dtypes in /usr/local/lib/python3.10/dist-packages (from keras->keras-tuner) (0.4.1)\n",
            "Requirement already satisfied: charset-normalizer<4,>=2 in /usr/local/lib/python3.10/dist-packages (from requests->keras-tuner) (3.4.0)\n",
            "Requirement already satisfied: idna<4,>=2.5 in /usr/local/lib/python3.10/dist-packages (from requests->keras-tuner) (3.10)\n",
            "Requirement already satisfied: urllib3<3,>=1.21.1 in /usr/local/lib/python3.10/dist-packages (from requests->keras-tuner) (2.2.3)\n",
            "Requirement already satisfied: certifi>=2017.4.17 in /usr/local/lib/python3.10/dist-packages (from requests->keras-tuner) (2024.8.30)\n",
            "Requirement already satisfied: typing-extensions>=4.5.0 in /usr/local/lib/python3.10/dist-packages (from optree->keras->keras-tuner) (4.12.2)\n",
            "Requirement already satisfied: markdown-it-py>=2.2.0 in /usr/local/lib/python3.10/dist-packages (from rich->keras->keras-tuner) (3.0.0)\n",
            "Requirement already satisfied: pygments<3.0.0,>=2.13.0 in /usr/local/lib/python3.10/dist-packages (from rich->keras->keras-tuner) (2.18.0)\n",
            "Requirement already satisfied: mdurl~=0.1 in /usr/local/lib/python3.10/dist-packages (from markdown-it-py>=2.2.0->rich->keras->keras-tuner) (0.1.2)\n",
            "Downloading keras_tuner-1.4.7-py3-none-any.whl (129 kB)\n",
            "\u001b[2K   \u001b[90m━━━━━━━━━━━━━━━━━━━━━━━━━━━━━━━━━━━━━━━━\u001b[0m \u001b[32m129.1/129.1 kB\u001b[0m \u001b[31m2.8 MB/s\u001b[0m eta \u001b[36m0:00:00\u001b[0m\n",
            "\u001b[?25hDownloading kt_legacy-1.0.5-py3-none-any.whl (9.6 kB)\n",
            "Installing collected packages: kt-legacy, keras-tuner\n",
            "Successfully installed keras-tuner-1.4.7 kt-legacy-1.0.5\n"
          ]
        }
      ]
    },
    {
      "cell_type": "code",
      "source": [
        "# I dont Actually use this because I uploaded the file directly to the files section\n",
        "from sklearn.metrics import classification_report\n",
        "from google.colab import drive\n",
        "drive.mount('gdrive')"
      ],
      "metadata": {
        "id": "elYpRqVe7cTE",
        "colab": {
          "base_uri": "https://localhost:8080/",
          "height": 321
        },
        "outputId": "b2cd44a4-43cb-4c69-b162-ffcca620f177"
      },
      "execution_count": 4,
      "outputs": [
        {
          "output_type": "error",
          "ename": "MessageError",
          "evalue": "Error: credential propagation was unsuccessful",
          "traceback": [
            "\u001b[0;31m---------------------------------------------------------------------------\u001b[0m",
            "\u001b[0;31mMessageError\u001b[0m                              Traceback (most recent call last)",
            "\u001b[0;32m<ipython-input-4-5121c2689b51>\u001b[0m in \u001b[0;36m<cell line: 3>\u001b[0;34m()\u001b[0m\n\u001b[1;32m      1\u001b[0m \u001b[0;32mfrom\u001b[0m \u001b[0msklearn\u001b[0m\u001b[0;34m.\u001b[0m\u001b[0mmetrics\u001b[0m \u001b[0;32mimport\u001b[0m \u001b[0mclassification_report\u001b[0m\u001b[0;34m\u001b[0m\u001b[0;34m\u001b[0m\u001b[0m\n\u001b[1;32m      2\u001b[0m \u001b[0;32mfrom\u001b[0m \u001b[0mgoogle\u001b[0m\u001b[0;34m.\u001b[0m\u001b[0mcolab\u001b[0m \u001b[0;32mimport\u001b[0m \u001b[0mdrive\u001b[0m\u001b[0;34m\u001b[0m\u001b[0;34m\u001b[0m\u001b[0m\n\u001b[0;32m----> 3\u001b[0;31m \u001b[0mdrive\u001b[0m\u001b[0;34m.\u001b[0m\u001b[0mmount\u001b[0m\u001b[0;34m(\u001b[0m\u001b[0;34m'gdrive'\u001b[0m\u001b[0;34m)\u001b[0m\u001b[0;34m\u001b[0m\u001b[0;34m\u001b[0m\u001b[0m\n\u001b[0m",
            "\u001b[0;32m/usr/local/lib/python3.10/dist-packages/google/colab/drive.py\u001b[0m in \u001b[0;36mmount\u001b[0;34m(mountpoint, force_remount, timeout_ms, readonly)\u001b[0m\n\u001b[1;32m     98\u001b[0m \u001b[0;32mdef\u001b[0m \u001b[0mmount\u001b[0m\u001b[0;34m(\u001b[0m\u001b[0mmountpoint\u001b[0m\u001b[0;34m,\u001b[0m \u001b[0mforce_remount\u001b[0m\u001b[0;34m=\u001b[0m\u001b[0;32mFalse\u001b[0m\u001b[0;34m,\u001b[0m \u001b[0mtimeout_ms\u001b[0m\u001b[0;34m=\u001b[0m\u001b[0;36m120000\u001b[0m\u001b[0;34m,\u001b[0m \u001b[0mreadonly\u001b[0m\u001b[0;34m=\u001b[0m\u001b[0;32mFalse\u001b[0m\u001b[0;34m)\u001b[0m\u001b[0;34m:\u001b[0m\u001b[0;34m\u001b[0m\u001b[0;34m\u001b[0m\u001b[0m\n\u001b[1;32m     99\u001b[0m   \u001b[0;34m\"\"\"Mount your Google Drive at the specified mountpoint path.\"\"\"\u001b[0m\u001b[0;34m\u001b[0m\u001b[0;34m\u001b[0m\u001b[0m\n\u001b[0;32m--> 100\u001b[0;31m   return _mount(\n\u001b[0m\u001b[1;32m    101\u001b[0m       \u001b[0mmountpoint\u001b[0m\u001b[0;34m,\u001b[0m\u001b[0;34m\u001b[0m\u001b[0;34m\u001b[0m\u001b[0m\n\u001b[1;32m    102\u001b[0m       \u001b[0mforce_remount\u001b[0m\u001b[0;34m=\u001b[0m\u001b[0mforce_remount\u001b[0m\u001b[0;34m,\u001b[0m\u001b[0;34m\u001b[0m\u001b[0;34m\u001b[0m\u001b[0m\n",
            "\u001b[0;32m/usr/local/lib/python3.10/dist-packages/google/colab/drive.py\u001b[0m in \u001b[0;36m_mount\u001b[0;34m(mountpoint, force_remount, timeout_ms, ephemeral, readonly)\u001b[0m\n\u001b[1;32m    135\u001b[0m   )\n\u001b[1;32m    136\u001b[0m   \u001b[0;32mif\u001b[0m \u001b[0mephemeral\u001b[0m\u001b[0;34m:\u001b[0m\u001b[0;34m\u001b[0m\u001b[0;34m\u001b[0m\u001b[0m\n\u001b[0;32m--> 137\u001b[0;31m     _message.blocking_request(\n\u001b[0m\u001b[1;32m    138\u001b[0m         \u001b[0;34m'request_auth'\u001b[0m\u001b[0;34m,\u001b[0m\u001b[0;34m\u001b[0m\u001b[0;34m\u001b[0m\u001b[0m\n\u001b[1;32m    139\u001b[0m         \u001b[0mrequest\u001b[0m\u001b[0;34m=\u001b[0m\u001b[0;34m{\u001b[0m\u001b[0;34m'authType'\u001b[0m\u001b[0;34m:\u001b[0m \u001b[0;34m'dfs_ephemeral'\u001b[0m\u001b[0;34m}\u001b[0m\u001b[0;34m,\u001b[0m\u001b[0;34m\u001b[0m\u001b[0;34m\u001b[0m\u001b[0m\n",
            "\u001b[0;32m/usr/local/lib/python3.10/dist-packages/google/colab/_message.py\u001b[0m in \u001b[0;36mblocking_request\u001b[0;34m(request_type, request, timeout_sec, parent)\u001b[0m\n\u001b[1;32m    174\u001b[0m       \u001b[0mrequest_type\u001b[0m\u001b[0;34m,\u001b[0m \u001b[0mrequest\u001b[0m\u001b[0;34m,\u001b[0m \u001b[0mparent\u001b[0m\u001b[0;34m=\u001b[0m\u001b[0mparent\u001b[0m\u001b[0;34m,\u001b[0m \u001b[0mexpect_reply\u001b[0m\u001b[0;34m=\u001b[0m\u001b[0;32mTrue\u001b[0m\u001b[0;34m\u001b[0m\u001b[0;34m\u001b[0m\u001b[0m\n\u001b[1;32m    175\u001b[0m   )\n\u001b[0;32m--> 176\u001b[0;31m   \u001b[0;32mreturn\u001b[0m \u001b[0mread_reply_from_input\u001b[0m\u001b[0;34m(\u001b[0m\u001b[0mrequest_id\u001b[0m\u001b[0;34m,\u001b[0m \u001b[0mtimeout_sec\u001b[0m\u001b[0;34m)\u001b[0m\u001b[0;34m\u001b[0m\u001b[0;34m\u001b[0m\u001b[0m\n\u001b[0m",
            "\u001b[0;32m/usr/local/lib/python3.10/dist-packages/google/colab/_message.py\u001b[0m in \u001b[0;36mread_reply_from_input\u001b[0;34m(message_id, timeout_sec)\u001b[0m\n\u001b[1;32m    101\u001b[0m     ):\n\u001b[1;32m    102\u001b[0m       \u001b[0;32mif\u001b[0m \u001b[0;34m'error'\u001b[0m \u001b[0;32min\u001b[0m \u001b[0mreply\u001b[0m\u001b[0;34m:\u001b[0m\u001b[0;34m\u001b[0m\u001b[0;34m\u001b[0m\u001b[0m\n\u001b[0;32m--> 103\u001b[0;31m         \u001b[0;32mraise\u001b[0m \u001b[0mMessageError\u001b[0m\u001b[0;34m(\u001b[0m\u001b[0mreply\u001b[0m\u001b[0;34m[\u001b[0m\u001b[0;34m'error'\u001b[0m\u001b[0;34m]\u001b[0m\u001b[0;34m)\u001b[0m\u001b[0;34m\u001b[0m\u001b[0;34m\u001b[0m\u001b[0m\n\u001b[0m\u001b[1;32m    104\u001b[0m       \u001b[0;32mreturn\u001b[0m \u001b[0mreply\u001b[0m\u001b[0;34m.\u001b[0m\u001b[0mget\u001b[0m\u001b[0;34m(\u001b[0m\u001b[0;34m'data'\u001b[0m\u001b[0;34m,\u001b[0m \u001b[0;32mNone\u001b[0m\u001b[0;34m)\u001b[0m\u001b[0;34m\u001b[0m\u001b[0;34m\u001b[0m\u001b[0m\n\u001b[1;32m    105\u001b[0m \u001b[0;34m\u001b[0m\u001b[0m\n",
            "\u001b[0;31mMessageError\u001b[0m: Error: credential propagation was unsuccessful"
          ]
        }
      ]
    },
    {
      "cell_type": "code",
      "source": [
        "def leeDatos():\n",
        "\n",
        "    dataSet = pd.read_csv(\"/content/archive1.zip\", header=0, compression='zip')\n",
        "\n",
        "    return dataSet"
      ],
      "metadata": {
        "id": "fACdscFyEZet"
      },
      "execution_count": 5,
      "outputs": []
    },
    {
      "cell_type": "code",
      "source": [
        "def encodeData(dataSet=0):\n",
        "    dataSet.dropna(inplace=True)\n",
        "\n",
        "    # Remove any 'neutral' ratings\n",
        "    dataSet['sentiment'] = [\"negative\" if x == \"neutral\" else x for x in dataSet['sentiment']]\n",
        "    dataSet['sent_analysis'] = np.where(dataSet['sentiment'] == \"positive\", 1, 0)\n",
        "    datos = ['text', 'sent_analysis']\n",
        "    misDatos = dataSet[datos]\n",
        "\n",
        "    return misDatos"
      ],
      "metadata": {
        "id": "_0WfF2HIEam6"
      },
      "execution_count": 6,
      "outputs": []
    },
    {
      "cell_type": "code",
      "source": [
        "datos = leeDatos()\n",
        "print(datos)\n",
        "print(\"\\n\")\n",
        "\n",
        "encodeDatos = encodeData(datos)\n",
        "print(encodeDatos)\n",
        "print(\"\\n\")\n",
        "print(encodeDatos['sent_analysis'].mean())\n",
        "print(\"\\n\")"
      ],
      "metadata": {
        "id": "8XVxLXhwEdJH",
        "colab": {
          "base_uri": "https://localhost:8080/"
        },
        "outputId": "9c9a61d3-08da-44eb-f7e1-d304f59564c1"
      },
      "execution_count": 7,
      "outputs": [
        {
          "output_type": "stream",
          "name": "stdout",
          "text": [
            "     Year  Month  Day Time of Tweet  \\\n",
            "0    2018      8   18       morning   \n",
            "1    2018      8   18          noon   \n",
            "2    2017      8   18         night   \n",
            "3    2022      6    8       morning   \n",
            "4    2022      6    8          noon   \n",
            "..    ...    ...  ...           ...   \n",
            "494  2015     10   18         night   \n",
            "495  2021      2   25       morning   \n",
            "496  2022      5   30          noon   \n",
            "497  2018      8   10         night   \n",
            "498  2019      3   25       morning   \n",
            "\n",
            "                                                  text sentiment     Platform  \n",
            "0                What a great day!!! Looks like dream.  positive    Twitter    \n",
            "1       I feel sorry, I miss you here in the sea beach  positive    Facebook   \n",
            "2                                       Don't angry me  negative     Facebook  \n",
            "3    We attend in the class just for listening teac...  negative    Facebook   \n",
            "4                    Those who want to go, let them go  negative   Instagram   \n",
            "..                                                 ...       ...          ...  \n",
            "494  According to , a quarter of families under six...  negative     Twitter   \n",
            "495      the plan to not spend money is not going well  negative   Instagram   \n",
            "496    uploading all my bamboozle pictures of facebook   neutral    Facebook   \n",
            "497   congratulations ! you guys finish a month ear...  positive     Twitter   \n",
            "498   actually, I wish I was back in Tahoe.  I miss...  negative   Instagram   \n",
            "\n",
            "[499 rows x 7 columns]\n",
            "\n",
            "\n",
            "                                                  text  sent_analysis\n",
            "0                What a great day!!! Looks like dream.              1\n",
            "1       I feel sorry, I miss you here in the sea beach              1\n",
            "2                                       Don't angry me              0\n",
            "3    We attend in the class just for listening teac...              0\n",
            "4                    Those who want to go, let them go              0\n",
            "..                                                 ...            ...\n",
            "494  According to , a quarter of families under six...              0\n",
            "495      the plan to not spend money is not going well              0\n",
            "496    uploading all my bamboozle pictures of facebook              0\n",
            "497   congratulations ! you guys finish a month ear...              1\n",
            "498   actually, I wish I was back in Tahoe.  I miss...              0\n",
            "\n",
            "[499 rows x 2 columns]\n",
            "\n",
            "\n",
            "0.33266533066132264\n",
            "\n",
            "\n"
          ]
        }
      ]
    },
    {
      "cell_type": "code",
      "source": [
        "ts_size = .25\n",
        "trainSet, testSet = train_test_split(encodeDatos, test_size=ts_size, random_state=0)\n",
        "print(trainSet)\n",
        "print('trainSet shape: ', trainSet.shape)\n",
        "print(testSet)\n",
        "print('testSet shape: ', testSet.shape)\n",
        "print(\"\\n\")"
      ],
      "metadata": {
        "id": "MfLh0osOEtnS",
        "colab": {
          "base_uri": "https://localhost:8080/"
        },
        "outputId": "44d89779-2d82-4fb1-cc7c-ad8f03eabec9"
      },
      "execution_count": 8,
      "outputs": [
        {
          "output_type": "stream",
          "name": "stdout",
          "text": [
            "                                                  text  sent_analysis\n",
            "239                       I love this youtube tutorial              1\n",
            "59       im thinking that im going to have fun tonight              1\n",
            "405   the 'no pants' idea could be the new attempt ...              0\n",
            "390   sorry  friends - I`m swamped with deadlines r...              0\n",
            "410                            I need blood O negative              0\n",
            "..                                                 ...            ...\n",
            "323   u think u have bills Ha!Ii just finished payi...              0\n",
            "192   it makes me happy to hear a girl talk, or twe...              1\n",
            "117                    just got up and updated my ipod              0\n",
            "47         im soo bored, I don't like this music video              0\n",
            "172                                     hope he is ok!              1\n",
            "\n",
            "[374 rows x 2 columns]\n",
            "trainSet shape:  (374, 2)\n",
            "                                                  text  sent_analysis\n",
            "90                    Follow me, I will follow you too              0\n",
            "254  Trying to decide on a movie with the friends.....              0\n",
            "283  Happy Mothers Day people. i love my mom a lot ...              1\n",
            "444                                    Morning tweeple              1\n",
            "474                   FIL 461 with cool people like me              1\n",
            "..                                                 ...            ...\n",
            "429  'my name is Tony!!!!!! ...not hey!!!!' -  poor...              0\n",
            "49   Had nicotine replacement patch on for 4 hours....              0\n",
            "134     Today, my semester final exam was really great              1\n",
            "364                  is hungry, twitter.  i want food.              0\n",
            "397                                 I hate the dentist              0\n",
            "\n",
            "[125 rows x 2 columns]\n",
            "testSet shape:  (125, 2)\n",
            "\n",
            "\n"
          ]
        }
      ]
    },
    {
      "cell_type": "code",
      "source": [
        "vocab_size = 15000\n",
        "max_length = 120\n",
        "trunc_type='post'\n",
        "padding_type='post'\n",
        "oov_tok = \"<OOV>\"\n",
        "\n",
        "training_sentences= trainSet['text']\n",
        "training_labels = trainSet['sent_analysis']\n",
        "testing_sentences = testSet['text']\n",
        "testing_labels = testSet['sent_analysis']"
      ],
      "metadata": {
        "id": "u6nxWKNZFuhc"
      },
      "execution_count": 9,
      "outputs": []
    },
    {
      "cell_type": "code",
      "source": [
        "tokenizer = Tokenizer(num_words=vocab_size, oov_token=oov_tok)\n",
        "tokenizer.fit_on_texts(training_sentences)\n",
        "\n",
        "word_index = tokenizer.word_index\n",
        "\n",
        "training_sequences = tokenizer.texts_to_sequences(training_sentences)\n",
        "training_padded = pad_sequences(training_sequences, maxlen=max_length, padding=padding_type, truncating=trunc_type)\n",
        "\n",
        "testing_sequences = tokenizer.texts_to_sequences(testing_sentences)\n",
        "testing_padded = pad_sequences(testing_sequences, maxlen=max_length, padding=padding_type, truncating=trunc_type)"
      ],
      "metadata": {
        "id": "_KhzJFAkE7gR"
      },
      "execution_count": 10,
      "outputs": []
    },
    {
      "cell_type": "code",
      "source": [
        "training_padded = np.array(training_padded)\n",
        "training_labels = np.array(training_labels)\n",
        "testing_padded = np.array(testing_padded)\n",
        "testing_labels = np.array(testing_labels)"
      ],
      "metadata": {
        "id": "5j4ZwNBVE7pa"
      },
      "execution_count": 11,
      "outputs": []
    },
    {
      "cell_type": "code",
      "source": [
        "def model_builder(hp):\n",
        "    vocab_size = 15000\n",
        "    hp_embedding_dim = hp.Int('embedding_dim', min_value=4, max_value=48 , step=4)\n",
        "    hp_max_length = hp.Int('input_length', min_value=60, max_value=140, step=5)\n",
        "    hp_filters = hp.Int('filters', min_value=2, max_value=12, step=2)\n",
        "    hp_kernel_size = hp.Int('kernel_size', min_value=2, max_value=6, step=1)\n",
        "    hp_pool_size = hp.Int('pool_size', min_value=2, max_value=6, step=1)\n",
        "    hp_activation_conv = hp.Choice('activation_conv', values=['linear', 'softplus', 'relu', 'sigmoid', 'tanh'])\n",
        "    hp_activation_dense = hp.Choice('activation_dense', values=['linear', 'softplus', 'relu', 'sigmoid', 'tanh'])\n",
        "    hp_optimizer = hp.Choice('optimizer', values=['adam', 'rmsprop'])\n",
        "\n",
        "    model = Sequential([\n",
        "                      Embedding(vocab_size, hp_embedding_dim, input_length=hp_max_length),\n",
        "                      Conv1D(filters=hp_filters, kernel_size=hp_kernel_size, activation=hp_activation_conv),\n",
        "                      AveragePooling1D(pool_size=hp_pool_size),\n",
        "                      Flatten(),\n",
        "                      Dense(2, activation=hp_activation_dense),\n",
        "                      Dense(1, activation='sigmoid', name=\"Outpul_layer\")\n",
        "                      ])\n",
        "\n",
        "    opt = hp_optimizer\n",
        "    loss_fun = 'binary_crossentropy'\n",
        "    acc = ['accuracy']\n",
        "\n",
        "    model.compile(\n",
        "        optimizer = opt,\n",
        "        loss = loss_fun,\n",
        "        metrics = acc\n",
        "        )\n",
        "\n",
        "    return model"
      ],
      "metadata": {
        "id": "zlFEaRkME70n"
      },
      "execution_count": 12,
      "outputs": []
    },
    {
      "cell_type": "code",
      "source": [
        "tuner = kt.Hyperband(model_builder,\n",
        "                     objective='val_accuracy',\n",
        "                     max_epochs=18,\n",
        "                     factor=3,\n",
        "                     )"
      ],
      "metadata": {
        "id": "bCOSMx9TGwCq"
      },
      "execution_count": 13,
      "outputs": []
    },
    {
      "cell_type": "code",
      "source": [
        "stop_early = EarlyStopping(monitor='val_loss', patience=5)"
      ],
      "metadata": {
        "id": "ORtdQgpEGwi_"
      },
      "execution_count": 14,
      "outputs": []
    },
    {
      "cell_type": "code",
      "source": [
        "validation_split_size = 0.35\n",
        "num_epochs = 45\n",
        "\n",
        "tuner.search(training_padded,\n",
        "             training_labels,\n",
        "             validation_split=validation_split_size,\n",
        "             epochs=num_epochs,\n",
        "             callbacks=[stop_early],\n",
        "             verbose=2)\n",
        "\n",
        "# Get the optimal hyperparameters\n",
        "best_hps=tuner.get_best_hyperparameters(num_trials=1)[0]\n",
        "\n",
        "print(f\"\"\"The hyperparameter search is complete.\n",
        "The best 'input_length' for the embedding layer is {best_hps.get('input_length')}\n",
        "\"\"\")"
      ],
      "metadata": {
        "id": "YRJ2pvFtGwrl",
        "colab": {
          "base_uri": "https://localhost:8080/"
        },
        "outputId": "8d855a91-d252-4f48-ae69-7cb9a6f385a0"
      },
      "execution_count": 15,
      "outputs": [
        {
          "output_type": "stream",
          "name": "stdout",
          "text": [
            "Trial 30 Complete [00h 00m 06s]\n",
            "val_accuracy: 0.7175572514533997\n",
            "\n",
            "Best val_accuracy So Far: 0.7175572514533997\n",
            "Total elapsed time: 00h 01m 59s\n",
            "The hyperparameter search is complete.\n",
            "The best 'input_length' for the embedding layer is 115\n",
            "\n"
          ]
        }
      ]
    },
    {
      "cell_type": "code",
      "source": [
        "model = tuner.hypermodel.build(best_hps)\n",
        "\n",
        "history = model.fit(training_padded,\n",
        "                    training_labels,\n",
        "                    validation_split=0.1,\n",
        "                    epochs=num_epochs,\n",
        "                    verbose=2)"
      ],
      "metadata": {
        "id": "WmQcsJHqHIwy",
        "colab": {
          "base_uri": "https://localhost:8080/"
        },
        "outputId": "e7bf958d-74e3-4a96-c58f-24a0965dc79e"
      },
      "execution_count": 16,
      "outputs": [
        {
          "output_type": "stream",
          "name": "stdout",
          "text": [
            "Epoch 1/45\n",
            "11/11 - 2s - 169ms/step - accuracy: 0.6190 - loss: 0.6719 - val_accuracy: 0.6842 - val_loss: 0.6345\n",
            "Epoch 2/45\n",
            "11/11 - 0s - 38ms/step - accuracy: 0.6726 - loss: 0.6334 - val_accuracy: 0.6842 - val_loss: 0.6253\n",
            "Epoch 3/45\n",
            "11/11 - 0s - 11ms/step - accuracy: 0.6726 - loss: 0.6295 - val_accuracy: 0.6842 - val_loss: 0.6244\n",
            "Epoch 4/45\n",
            "11/11 - 0s - 13ms/step - accuracy: 0.6726 - loss: 0.6224 - val_accuracy: 0.6842 - val_loss: 0.6225\n",
            "Epoch 5/45\n",
            "11/11 - 0s - 10ms/step - accuracy: 0.6726 - loss: 0.6184 - val_accuracy: 0.6842 - val_loss: 0.6214\n",
            "Epoch 6/45\n",
            "11/11 - 0s - 12ms/step - accuracy: 0.6726 - loss: 0.6106 - val_accuracy: 0.6842 - val_loss: 0.6191\n",
            "Epoch 7/45\n",
            "11/11 - 0s - 12ms/step - accuracy: 0.6726 - loss: 0.6011 - val_accuracy: 0.6842 - val_loss: 0.6162\n",
            "Epoch 8/45\n",
            "11/11 - 0s - 11ms/step - accuracy: 0.6726 - loss: 0.5882 - val_accuracy: 0.6842 - val_loss: 0.6123\n",
            "Epoch 9/45\n",
            "11/11 - 0s - 13ms/step - accuracy: 0.6726 - loss: 0.5710 - val_accuracy: 0.6842 - val_loss: 0.6074\n",
            "Epoch 10/45\n",
            "11/11 - 0s - 15ms/step - accuracy: 0.6726 - loss: 0.5462 - val_accuracy: 0.6842 - val_loss: 0.5996\n",
            "Epoch 11/45\n",
            "11/11 - 0s - 24ms/step - accuracy: 0.6905 - loss: 0.5146 - val_accuracy: 0.6842 - val_loss: 0.5899\n",
            "Epoch 12/45\n",
            "11/11 - 0s - 13ms/step - accuracy: 0.7530 - loss: 0.4726 - val_accuracy: 0.6842 - val_loss: 0.5764\n",
            "Epoch 13/45\n",
            "11/11 - 0s - 12ms/step - accuracy: 0.8065 - loss: 0.4224 - val_accuracy: 0.7368 - val_loss: 0.5632\n",
            "Epoch 14/45\n",
            "11/11 - 0s - 12ms/step - accuracy: 0.9167 - loss: 0.3688 - val_accuracy: 0.7105 - val_loss: 0.5475\n",
            "Epoch 15/45\n",
            "11/11 - 0s - 11ms/step - accuracy: 0.9256 - loss: 0.3107 - val_accuracy: 0.7368 - val_loss: 0.5292\n",
            "Epoch 16/45\n",
            "11/11 - 0s - 12ms/step - accuracy: 0.9345 - loss: 0.2588 - val_accuracy: 0.7368 - val_loss: 0.5148\n",
            "Epoch 17/45\n",
            "11/11 - 0s - 14ms/step - accuracy: 0.9435 - loss: 0.2144 - val_accuracy: 0.7632 - val_loss: 0.5029\n",
            "Epoch 18/45\n",
            "11/11 - 0s - 18ms/step - accuracy: 0.9613 - loss: 0.1767 - val_accuracy: 0.7895 - val_loss: 0.4945\n",
            "Epoch 19/45\n",
            "11/11 - 0s - 26ms/step - accuracy: 0.9732 - loss: 0.1469 - val_accuracy: 0.7895 - val_loss: 0.4942\n",
            "Epoch 20/45\n",
            "11/11 - 0s - 28ms/step - accuracy: 0.9821 - loss: 0.1241 - val_accuracy: 0.7895 - val_loss: 0.4916\n",
            "Epoch 21/45\n",
            "11/11 - 0s - 26ms/step - accuracy: 0.9851 - loss: 0.1053 - val_accuracy: 0.7895 - val_loss: 0.4902\n",
            "Epoch 22/45\n",
            "11/11 - 0s - 29ms/step - accuracy: 0.9881 - loss: 0.0913 - val_accuracy: 0.7632 - val_loss: 0.4942\n",
            "Epoch 23/45\n",
            "11/11 - 0s - 16ms/step - accuracy: 0.9911 - loss: 0.0786 - val_accuracy: 0.7368 - val_loss: 0.4969\n",
            "Epoch 24/45\n",
            "11/11 - 0s - 30ms/step - accuracy: 0.9911 - loss: 0.0689 - val_accuracy: 0.7368 - val_loss: 0.5021\n",
            "Epoch 25/45\n",
            "11/11 - 0s - 28ms/step - accuracy: 0.9911 - loss: 0.0613 - val_accuracy: 0.7368 - val_loss: 0.5061\n",
            "Epoch 26/45\n",
            "11/11 - 0s - 21ms/step - accuracy: 0.9940 - loss: 0.0559 - val_accuracy: 0.7368 - val_loss: 0.5137\n",
            "Epoch 27/45\n",
            "11/11 - 0s - 17ms/step - accuracy: 0.9940 - loss: 0.0483 - val_accuracy: 0.7368 - val_loss: 0.5160\n",
            "Epoch 28/45\n",
            "11/11 - 0s - 11ms/step - accuracy: 0.9940 - loss: 0.0441 - val_accuracy: 0.7368 - val_loss: 0.5194\n",
            "Epoch 29/45\n",
            "11/11 - 0s - 14ms/step - accuracy: 0.9940 - loss: 0.0400 - val_accuracy: 0.7368 - val_loss: 0.5293\n",
            "Epoch 30/45\n",
            "11/11 - 0s - 12ms/step - accuracy: 0.9940 - loss: 0.0364 - val_accuracy: 0.7368 - val_loss: 0.5359\n",
            "Epoch 31/45\n",
            "11/11 - 0s - 13ms/step - accuracy: 0.9940 - loss: 0.0326 - val_accuracy: 0.7368 - val_loss: 0.5454\n",
            "Epoch 32/45\n",
            "11/11 - 0s - 11ms/step - accuracy: 0.9940 - loss: 0.0310 - val_accuracy: 0.7368 - val_loss: 0.5521\n",
            "Epoch 33/45\n",
            "11/11 - 0s - 11ms/step - accuracy: 0.9940 - loss: 0.0279 - val_accuracy: 0.7368 - val_loss: 0.5583\n",
            "Epoch 34/45\n",
            "11/11 - 0s - 14ms/step - accuracy: 0.9940 - loss: 0.0256 - val_accuracy: 0.7368 - val_loss: 0.5624\n",
            "Epoch 35/45\n",
            "11/11 - 0s - 12ms/step - accuracy: 0.9940 - loss: 0.0240 - val_accuracy: 0.7368 - val_loss: 0.5690\n",
            "Epoch 36/45\n",
            "11/11 - 0s - 13ms/step - accuracy: 0.9940 - loss: 0.0220 - val_accuracy: 0.7368 - val_loss: 0.5764\n",
            "Epoch 37/45\n",
            "11/11 - 0s - 11ms/step - accuracy: 0.9970 - loss: 0.0205 - val_accuracy: 0.7368 - val_loss: 0.5826\n",
            "Epoch 38/45\n",
            "11/11 - 0s - 13ms/step - accuracy: 0.9940 - loss: 0.0191 - val_accuracy: 0.7368 - val_loss: 0.5882\n",
            "Epoch 39/45\n",
            "11/11 - 0s - 26ms/step - accuracy: 0.9940 - loss: 0.0178 - val_accuracy: 0.7105 - val_loss: 0.5938\n",
            "Epoch 40/45\n",
            "11/11 - 0s - 11ms/step - accuracy: 0.9940 - loss: 0.0169 - val_accuracy: 0.7368 - val_loss: 0.6027\n",
            "Epoch 41/45\n",
            "11/11 - 0s - 12ms/step - accuracy: 1.0000 - loss: 0.0156 - val_accuracy: 0.6842 - val_loss: 0.6082\n",
            "Epoch 42/45\n",
            "11/11 - 0s - 13ms/step - accuracy: 1.0000 - loss: 0.0149 - val_accuracy: 0.6842 - val_loss: 0.6124\n",
            "Epoch 43/45\n",
            "11/11 - 0s - 12ms/step - accuracy: 1.0000 - loss: 0.0137 - val_accuracy: 0.6842 - val_loss: 0.6225\n",
            "Epoch 44/45\n",
            "11/11 - 0s - 13ms/step - accuracy: 1.0000 - loss: 0.0130 - val_accuracy: 0.6842 - val_loss: 0.6265\n",
            "Epoch 45/45\n",
            "11/11 - 0s - 13ms/step - accuracy: 1.0000 - loss: 0.0122 - val_accuracy: 0.6842 - val_loss: 0.6330\n"
          ]
        }
      ]
    },
    {
      "cell_type": "code",
      "source": [
        "fig = plt.figure()\n",
        "fig.add_subplot(121)\n",
        "plt.plot(history.history['loss'])\n",
        "plt.plot(history.history['val_loss'])\n",
        "plt.title(\"Loss vs Epochs\")\n",
        "plt.ylabel('Loss')\n",
        "plt.xlabel('Epoch')\n",
        "plt.legend(['Training', 'Validation'], loc='upper right')\n",
        "fig.add_subplot(122)\n",
        "plt.plot(history.history['accuracy'])\n",
        "plt.plot(history.history['val_accuracy'])\n",
        "plt.title(\"Accuracy vs Epochs\")\n",
        "plt.ylabel('Accuracy')\n",
        "plt.xlabel('Epoch')\n",
        "plt.legend(['Training', 'Validation'], loc='upper right')\n",
        "plt.show()"
      ],
      "metadata": {
        "id": "FJP1WimUHRH1",
        "colab": {
          "base_uri": "https://localhost:8080/",
          "height": 472
        },
        "outputId": "a0fda471-3ef6-487b-fb63-6812424bb922"
      },
      "execution_count": 17,
      "outputs": [
        {
          "output_type": "display_data",
          "data": {
            "text/plain": [
              "<Figure size 640x480 with 2 Axes>"
            ],
            "image/png": "[encoded data removed]"
          },
          "metadata": {}
        }
      ]
    },
    {
      "cell_type": "code",
      "source": [
        "print(model.evaluate(training_padded, training_labels, verbose=2))\n",
        "print(\"\\n\")\n",
        "\n",
        "#### predict train data ######\n",
        "df_train = pd.DataFrame()\n",
        "df_train['real'] = training_labels\n",
        "df_train['pred'] = model.predict(training_padded).reshape(1,len(training_padded))[0]\n",
        "print(round(df_train))\n",
        "print(model.evaluate(testing_padded,testing_labels, verbose=2))\n",
        "print(\"\\n\")\n",
        "\n",
        "# test data\n",
        "df_test = pd.DataFrame()\n",
        "df_test['real'] = testing_labels\n",
        "df_test['pred'] = model.predict(testing_padded).reshape(1,len(testing_padded))[0]\n",
        "print(round(df_test))\n",
        "\n",
        "report = classification_report(testing_labels, round(df_test['pred']), output_dict=True)\n",
        "df_report = pd.DataFrame(report).transpose()\n",
        "print(df_report)\n",
        "print(\"\\n\")"
      ],
      "metadata": {
        "id": "zQM0huiTHwLM",
        "colab": {
          "base_uri": "https://localhost:8080/"
        },
        "outputId": "a387877f-d5c0-4413-9204-77e26b52b12e"
      },
      "execution_count": 18,
      "outputs": [
        {
          "output_type": "stream",
          "name": "stdout",
          "text": [
            "12/12 - 0s - 4ms/step - accuracy: 0.9679 - loss: 0.0748\n",
            "[0.07479728013277054, 0.9679144620895386]\n",
            "\n",
            "\n",
            "\u001b[1m12/12\u001b[0m \u001b[32m━━━━━━━━━━━━━━━━━━━━\u001b[0m\u001b[37m\u001b[0m \u001b[1m0s\u001b[0m 8ms/step\n",
            "     real  pred\n",
            "0       1   1.0\n",
            "1       1   1.0\n",
            "2       0   0.0\n",
            "3       0   0.0\n",
            "4       0   0.0\n",
            "..    ...   ...\n",
            "369     0   0.0\n",
            "370     1   1.0\n",
            "371     0   0.0\n",
            "372     0   1.0\n",
            "373     1   1.0\n",
            "\n",
            "[374 rows x 2 columns]\n",
            "4/4 - 0s - 8ms/step - accuracy: 0.7920 - loss: 0.5236\n",
            "[0.5235974788665771, 0.7919999957084656]\n",
            "\n",
            "\n",
            "\u001b[1m4/4\u001b[0m \u001b[32m━━━━━━━━━━━━━━━━━━━━\u001b[0m\u001b[37m\u001b[0m \u001b[1m0s\u001b[0m 3ms/step \n",
            "     real  pred\n",
            "0       0   0.0\n",
            "1       0   0.0\n",
            "2       1   1.0\n",
            "3       1   0.0\n",
            "4       1   0.0\n",
            "..    ...   ...\n",
            "120     0   0.0\n",
            "121     0   0.0\n",
            "122     1   1.0\n",
            "123     0   0.0\n",
            "124     0   0.0\n",
            "\n",
            "[125 rows x 2 columns]\n",
            "              precision    recall  f1-score  support\n",
            "0              0.808989  0.888889  0.847059   81.000\n",
            "1              0.750000  0.613636  0.675000   44.000\n",
            "accuracy       0.792000  0.792000  0.792000    0.792\n",
            "macro avg      0.779494  0.751263  0.761029  125.000\n",
            "weighted avg   0.788225  0.792000  0.786494  125.000\n",
            "\n",
            "\n"
          ]
        }
      ]
    }
  ]
}