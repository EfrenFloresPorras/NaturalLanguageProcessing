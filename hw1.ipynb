{
 "cells": [
  {
   "cell_type": "code",
   "execution_count": 1,
   "metadata": {},
   "outputs": [
    {
     "name": "stderr",
     "output_type": "stream",
     "text": [
      "[nltk_data] Downloading package punkt to\n",
      "[nltk_data]     C:\\Users\\efren\\AppData\\Roaming\\nltk_data...\n",
      "[nltk_data]   Package punkt is already up-to-date!\n",
      "[nltk_data] Downloading package punkt_tab to\n",
      "[nltk_data]     C:\\Users\\efren\\AppData\\Roaming\\nltk_data...\n",
      "[nltk_data]   Package punkt_tab is already up-to-date!\n",
      "[nltk_data] Downloading package stopwords to\n",
      "[nltk_data]     C:\\Users\\efren\\AppData\\Roaming\\nltk_data...\n",
      "[nltk_data]   Package stopwords is already up-to-date!\n"
     ]
    },
    {
     "name": "stdout",
     "output_type": "stream",
     "text": [
      "Collecting es-core-news-sm==3.7.0\n",
      "  Downloading https://github.com/explosion/spacy-models/releases/download/es_core_news_sm-3.7.0/es_core_news_sm-3.7.0-py3-none-any.whl (12.9 MB)\n",
      "     ---------------------------------------- 0.0/12.9 MB ? eta -:--:--\n",
      "     - -------------------------------------- 0.5/12.9 MB 5.6 MB/s eta 0:00:03\n",
      "     -- ------------------------------------- 0.8/12.9 MB 4.8 MB/s eta 0:00:03\n",
      "     ----- ---------------------------------- 1.8/12.9 MB 3.4 MB/s eta 0:00:04\n",
      "     -------- ------------------------------- 2.9/12.9 MB 3.9 MB/s eta 0:00:03\n",
      "     ------------ --------------------------- 3.9/12.9 MB 4.3 MB/s eta 0:00:03\n",
      "     -------------- ------------------------- 4.7/12.9 MB 4.3 MB/s eta 0:00:02\n",
      "     ------------------ --------------------- 6.0/12.9 MB 4.4 MB/s eta 0:00:02\n",
      "     --------------------- ------------------ 7.1/12.9 MB 4.6 MB/s eta 0:00:02\n",
      "     ------------------------- -------------- 8.1/12.9 MB 4.6 MB/s eta 0:00:02\n",
      "     ---------------------------- ----------- 9.2/12.9 MB 4.6 MB/s eta 0:00:01\n",
      "     ---------------------------------- ----- 11.0/12.9 MB 5.0 MB/s eta 0:00:01\n",
      "     ---------------------------------------- 12.9/12.9 MB 5.4 MB/s eta 0:00:00\n",
      "Requirement already satisfied: spacy<3.8.0,>=3.7.0 in c:\\users\\efren\\documents\\github\\venvnaturallenguageprocessing\\lib\\site-packages (from es-core-news-sm==3.7.0) (3.7.5)\n",
      "Requirement already satisfied: spacy-legacy<3.1.0,>=3.0.11 in c:\\users\\efren\\documents\\github\\venvnaturallenguageprocessing\\lib\\site-packages (from spacy<3.8.0,>=3.7.0->es-core-news-sm==3.7.0) (3.0.12)\n",
      "Requirement already satisfied: spacy-loggers<2.0.0,>=1.0.0 in c:\\users\\efren\\documents\\github\\venvnaturallenguageprocessing\\lib\\site-packages (from spacy<3.8.0,>=3.7.0->es-core-news-sm==3.7.0) (1.0.5)\n",
      "Requirement already satisfied: murmurhash<1.1.0,>=0.28.0 in c:\\users\\efren\\documents\\github\\venvnaturallenguageprocessing\\lib\\site-packages (from spacy<3.8.0,>=3.7.0->es-core-news-sm==3.7.0) (1.0.10)\n",
      "Requirement already satisfied: cymem<2.1.0,>=2.0.2 in c:\\users\\efren\\documents\\github\\venvnaturallenguageprocessing\\lib\\site-packages (from spacy<3.8.0,>=3.7.0->es-core-news-sm==3.7.0) (2.0.8)\n",
      "Requirement already satisfied: preshed<3.1.0,>=3.0.2 in c:\\users\\efren\\documents\\github\\venvnaturallenguageprocessing\\lib\\site-packages (from spacy<3.8.0,>=3.7.0->es-core-news-sm==3.7.0) (3.0.9)\n",
      "Requirement already satisfied: thinc<8.3.0,>=8.2.2 in c:\\users\\efren\\documents\\github\\venvnaturallenguageprocessing\\lib\\site-packages (from spacy<3.8.0,>=3.7.0->es-core-news-sm==3.7.0) (8.2.5)\n",
      "Requirement already satisfied: wasabi<1.2.0,>=0.9.1 in c:\\users\\efren\\documents\\github\\venvnaturallenguageprocessing\\lib\\site-packages (from spacy<3.8.0,>=3.7.0->es-core-news-sm==3.7.0) (1.1.3)\n",
      "Requirement already satisfied: srsly<3.0.0,>=2.4.3 in c:\\users\\efren\\documents\\github\\venvnaturallenguageprocessing\\lib\\site-packages (from spacy<3.8.0,>=3.7.0->es-core-news-sm==3.7.0) (2.4.8)\n",
      "Requirement already satisfied: catalogue<2.1.0,>=2.0.6 in c:\\users\\efren\\documents\\github\\venvnaturallenguageprocessing\\lib\\site-packages (from spacy<3.8.0,>=3.7.0->es-core-news-sm==3.7.0) (2.0.10)\n",
      "Requirement already satisfied: weasel<0.5.0,>=0.1.0 in c:\\users\\efren\\documents\\github\\venvnaturallenguageprocessing\\lib\\site-packages (from spacy<3.8.0,>=3.7.0->es-core-news-sm==3.7.0) (0.4.1)\n",
      "Requirement already satisfied: typer<1.0.0,>=0.3.0 in c:\\users\\efren\\documents\\github\\venvnaturallenguageprocessing\\lib\\site-packages (from spacy<3.8.0,>=3.7.0->es-core-news-sm==3.7.0) (0.12.3)\n",
      "Requirement already satisfied: tqdm<5.0.0,>=4.38.0 in c:\\users\\efren\\documents\\github\\venvnaturallenguageprocessing\\lib\\site-packages (from spacy<3.8.0,>=3.7.0->es-core-news-sm==3.7.0) (4.66.5)\n",
      "Requirement already satisfied: requests<3.0.0,>=2.13.0 in c:\\users\\efren\\documents\\github\\venvnaturallenguageprocessing\\lib\\site-packages (from spacy<3.8.0,>=3.7.0->es-core-news-sm==3.7.0) (2.32.3)\n",
      "Requirement already satisfied: pydantic!=1.8,!=1.8.1,<3.0.0,>=1.7.4 in c:\\users\\efren\\documents\\github\\venvnaturallenguageprocessing\\lib\\site-packages (from spacy<3.8.0,>=3.7.0->es-core-news-sm==3.7.0) (2.8.2)\n",
      "Requirement already satisfied: jinja2 in c:\\users\\efren\\documents\\github\\venvnaturallenguageprocessing\\lib\\site-packages (from spacy<3.8.0,>=3.7.0->es-core-news-sm==3.7.0) (3.1.4)\n",
      "Requirement already satisfied: setuptools in c:\\users\\efren\\documents\\github\\venvnaturallenguageprocessing\\lib\\site-packages (from spacy<3.8.0,>=3.7.0->es-core-news-sm==3.7.0) (72.1.0)\n",
      "Requirement already satisfied: packaging>=20.0 in c:\\users\\efren\\documents\\github\\venvnaturallenguageprocessing\\lib\\site-packages (from spacy<3.8.0,>=3.7.0->es-core-news-sm==3.7.0) (24.1)\n",
      "Requirement already satisfied: langcodes<4.0.0,>=3.2.0 in c:\\users\\efren\\documents\\github\\venvnaturallenguageprocessing\\lib\\site-packages (from spacy<3.8.0,>=3.7.0->es-core-news-sm==3.7.0) (3.4.0)\n",
      "Requirement already satisfied: numpy>=1.19.0 in c:\\users\\efren\\documents\\github\\venvnaturallenguageprocessing\\lib\\site-packages (from spacy<3.8.0,>=3.7.0->es-core-news-sm==3.7.0) (1.26.4)\n",
      "Requirement already satisfied: language-data>=1.2 in c:\\users\\efren\\documents\\github\\venvnaturallenguageprocessing\\lib\\site-packages (from langcodes<4.0.0,>=3.2.0->spacy<3.8.0,>=3.7.0->es-core-news-sm==3.7.0) (1.2.0)\n",
      "Requirement already satisfied: annotated-types>=0.4.0 in c:\\users\\efren\\documents\\github\\venvnaturallenguageprocessing\\lib\\site-packages (from pydantic!=1.8,!=1.8.1,<3.0.0,>=1.7.4->spacy<3.8.0,>=3.7.0->es-core-news-sm==3.7.0) (0.7.0)\n",
      "Requirement already satisfied: pydantic-core==2.20.1 in c:\\users\\efren\\documents\\github\\venvnaturallenguageprocessing\\lib\\site-packages (from pydantic!=1.8,!=1.8.1,<3.0.0,>=1.7.4->spacy<3.8.0,>=3.7.0->es-core-news-sm==3.7.0) (2.20.1)\n",
      "Requirement already satisfied: typing-extensions>=4.6.1 in c:\\users\\efren\\documents\\github\\venvnaturallenguageprocessing\\lib\\site-packages (from pydantic!=1.8,!=1.8.1,<3.0.0,>=1.7.4->spacy<3.8.0,>=3.7.0->es-core-news-sm==3.7.0) (4.12.2)\n",
      "Requirement already satisfied: charset-normalizer<4,>=2 in c:\\users\\efren\\documents\\github\\venvnaturallenguageprocessing\\lib\\site-packages (from requests<3.0.0,>=2.13.0->spacy<3.8.0,>=3.7.0->es-core-news-sm==3.7.0) (3.3.2)\n",
      "Requirement already satisfied: idna<4,>=2.5 in c:\\users\\efren\\documents\\github\\venvnaturallenguageprocessing\\lib\\site-packages (from requests<3.0.0,>=2.13.0->spacy<3.8.0,>=3.7.0->es-core-news-sm==3.7.0) (3.7)\n",
      "Requirement already satisfied: urllib3<3,>=1.21.1 in c:\\users\\efren\\documents\\github\\venvnaturallenguageprocessing\\lib\\site-packages (from requests<3.0.0,>=2.13.0->spacy<3.8.0,>=3.7.0->es-core-news-sm==3.7.0) (2.2.2)\n",
      "Requirement already satisfied: certifi>=2017.4.17 in c:\\users\\efren\\documents\\github\\venvnaturallenguageprocessing\\lib\\site-packages (from requests<3.0.0,>=2.13.0->spacy<3.8.0,>=3.7.0->es-core-news-sm==3.7.0) (2024.7.4)\n",
      "Requirement already satisfied: blis<0.8.0,>=0.7.8 in c:\\users\\efren\\documents\\github\\venvnaturallenguageprocessing\\lib\\site-packages (from thinc<8.3.0,>=8.2.2->spacy<3.8.0,>=3.7.0->es-core-news-sm==3.7.0) (0.7.11)\n",
      "Requirement already satisfied: confection<1.0.0,>=0.0.1 in c:\\users\\efren\\documents\\github\\venvnaturallenguageprocessing\\lib\\site-packages (from thinc<8.3.0,>=8.2.2->spacy<3.8.0,>=3.7.0->es-core-news-sm==3.7.0) (0.1.5)\n",
      "Requirement already satisfied: colorama in c:\\users\\efren\\documents\\github\\venvnaturallenguageprocessing\\lib\\site-packages (from tqdm<5.0.0,>=4.38.0->spacy<3.8.0,>=3.7.0->es-core-news-sm==3.7.0) (0.4.6)\n",
      "Requirement already satisfied: click>=8.0.0 in c:\\users\\efren\\documents\\github\\venvnaturallenguageprocessing\\lib\\site-packages (from typer<1.0.0,>=0.3.0->spacy<3.8.0,>=3.7.0->es-core-news-sm==3.7.0) (8.1.7)\n",
      "Requirement already satisfied: shellingham>=1.3.0 in c:\\users\\efren\\documents\\github\\venvnaturallenguageprocessing\\lib\\site-packages (from typer<1.0.0,>=0.3.0->spacy<3.8.0,>=3.7.0->es-core-news-sm==3.7.0) (1.5.4)\n",
      "Requirement already satisfied: rich>=10.11.0 in c:\\users\\efren\\documents\\github\\venvnaturallenguageprocessing\\lib\\site-packages (from typer<1.0.0,>=0.3.0->spacy<3.8.0,>=3.7.0->es-core-news-sm==3.7.0) (13.7.1)\n",
      "Requirement already satisfied: cloudpathlib<1.0.0,>=0.7.0 in c:\\users\\efren\\documents\\github\\venvnaturallenguageprocessing\\lib\\site-packages (from weasel<0.5.0,>=0.1.0->spacy<3.8.0,>=3.7.0->es-core-news-sm==3.7.0) (0.18.1)\n",
      "Requirement already satisfied: smart-open<8.0.0,>=5.2.1 in c:\\users\\efren\\documents\\github\\venvnaturallenguageprocessing\\lib\\site-packages (from weasel<0.5.0,>=0.1.0->spacy<3.8.0,>=3.7.0->es-core-news-sm==3.7.0) (7.0.4)\n",
      "Requirement already satisfied: MarkupSafe>=2.0 in c:\\users\\efren\\documents\\github\\venvnaturallenguageprocessing\\lib\\site-packages (from jinja2->spacy<3.8.0,>=3.7.0->es-core-news-sm==3.7.0) (2.1.5)\n",
      "Requirement already satisfied: marisa-trie>=0.7.7 in c:\\users\\efren\\documents\\github\\venvnaturallenguageprocessing\\lib\\site-packages (from language-data>=1.2->langcodes<4.0.0,>=3.2.0->spacy<3.8.0,>=3.7.0->es-core-news-sm==3.7.0) (1.2.0)\n",
      "Requirement already satisfied: markdown-it-py>=2.2.0 in c:\\users\\efren\\documents\\github\\venvnaturallenguageprocessing\\lib\\site-packages (from rich>=10.11.0->typer<1.0.0,>=0.3.0->spacy<3.8.0,>=3.7.0->es-core-news-sm==3.7.0) (3.0.0)\n",
      "Requirement already satisfied: pygments<3.0.0,>=2.13.0 in c:\\users\\efren\\documents\\github\\venvnaturallenguageprocessing\\lib\\site-packages (from rich>=10.11.0->typer<1.0.0,>=0.3.0->spacy<3.8.0,>=3.7.0->es-core-news-sm==3.7.0) (2.18.0)\n",
      "Requirement already satisfied: wrapt in c:\\users\\efren\\documents\\github\\venvnaturallenguageprocessing\\lib\\site-packages (from smart-open<8.0.0,>=5.2.1->weasel<0.5.0,>=0.1.0->spacy<3.8.0,>=3.7.0->es-core-news-sm==3.7.0) (1.16.0)\n",
      "Requirement already satisfied: mdurl~=0.1 in c:\\users\\efren\\documents\\github\\venvnaturallenguageprocessing\\lib\\site-packages (from markdown-it-py>=2.2.0->rich>=10.11.0->typer<1.0.0,>=0.3.0->spacy<3.8.0,>=3.7.0->es-core-news-sm==3.7.0) (0.1.2)\n",
      "\u001b[38;5;2m✔ Download and installation successful\u001b[0m\n",
      "You can now load the package via spacy.load('es_core_news_sm')\n"
     ]
    }
   ],
   "source": [
    "import nltk\n",
    "import nltk.data\n",
    "import spacy\n",
    "from nltk import SnowballStemmer\n",
    "nltk.download('punkt')\n",
    "nltk.download('punkt_tab')\n",
    "nltk.download('stopwords')\n",
    "!python -m spacy download es_core_news_sm"
   ]
  },
  {
   "cell_type": "code",
   "execution_count": 2,
   "metadata": {},
   "outputs": [
    {
     "data": {
      "text/plain": [
       "<spacy.lang.es.Spanish at 0x20c425f9550>"
      ]
     },
     "execution_count": 2,
     "metadata": {},
     "output_type": "execute_result"
    }
   ],
   "source": [
    "spacy.load('es_core_news_sm')"
   ]
  },
  {
   "cell_type": "markdown",
   "metadata": {},
   "source": [
    "# Recieve Data"
   ]
  },
  {
   "cell_type": "code",
   "execution_count": 4,
   "metadata": {},
   "outputs": [
    {
     "name": "stdout",
     "output_type": "stream",
     "text": [
      "La vida es un constante devenir, un flujo interminable de momentos que se escapan de nuestras manos como agua entre los dedos. \n",
      "    A veces, en la quietud de la noche, nos damos cuenta de que cada segundo que pasa es un regalo, una oportunidad irrepetible de ser, de sentir, de amar. \n",
      "    Reflexionamos sobre los caminos que hemos recorrido, las decisiones que hemos tomado, y nos preguntamos si estamos en el lugar correcto, si somos quienes queremos ser.\n",
      "    La naturaleza nos recuerda la belleza de la impermanencia. Los árboles cambian sus hojas, el río sigue su curso, y el cielo pinta nuevos paisajes cada día. \n",
      "    Así también, nosotros debemos aprender a fluir con la vida, a aceptar los cambios, a abrazar lo desconocido con valentía y gratitud.\n"
     ]
    }
   ],
   "source": [
    "text = \"\"\"La vida es un constante devenir, un flujo interminable de momentos que se escapan de nuestras manos como agua entre los dedos. \n",
    "    A veces, en la quietud de la noche, nos damos cuenta de que cada segundo que pasa es un regalo, una oportunidad irrepetible de ser, de sentir, de amar. \n",
    "    Reflexionamos sobre los caminos que hemos recorrido, las decisiones que hemos tomado, y nos preguntamos si estamos en el lugar correcto, si somos quienes queremos ser.\n",
    "    La naturaleza nos recuerda la belleza de la impermanencia. Los árboles cambian sus hojas, el río sigue su curso, y el cielo pinta nuevos paisajes cada día. \n",
    "    Así también, nosotros debemos aprender a fluir con la vida, a aceptar los cambios, a abrazar lo desconocido con valentía y gratitud.\"\"\"\n",
    "\n",
    "print(text)"
   ]
  },
  {
   "cell_type": "markdown",
   "metadata": {},
   "source": [
    "# Tokenize the text"
   ]
  },
  {
   "cell_type": "code",
   "execution_count": 22,
   "metadata": {},
   "outputs": [],
   "source": [
    "## tokenize the text in sentence\n",
    "def tokenize_sentence(text):\n",
    "    sentence = nltk.sent_tokenize(text)\n",
    "    for s in sentence:\n",
    "        print(s)\n",
    "\n",
    "## tokenize the text in words\n",
    "def tokenize_words(text):\n",
    "    words = nltk.word_tokenize(text)\n",
    "    for w in words:\n",
    "        print(w)\n",
    "        \n",
    "# Stop words\n",
    "sw_s = set(nltk.corpus.stopwords.words('spanish'))\n",
    "\n",
    "def filtering_removing(text):\n",
    "    filtered = \"\"\n",
    "    words = nltk.word_tokenize(text)\n",
    "    for w in words:\n",
    "        if w not in sw_s:\n",
    "            if w.isalnum():\n",
    "                filtered += w + \" \"\n",
    "\n",
    "    tokenize_sentence(filtered)\n",
    "            \n",
    "\n"
   ]
  },
  {
   "cell_type": "code",
   "execution_count": 23,
   "metadata": {},
   "outputs": [
    {
     "name": "stdout",
     "output_type": "stream",
     "text": [
      "La vida es un constante devenir, un flujo interminable de momentos que se escapan de nuestras manos como agua entre los dedos.\n",
      "A veces, en la quietud de la noche, nos damos cuenta de que cada segundo que pasa es un regalo, una oportunidad irrepetible de ser, de sentir, de amar.\n",
      "Reflexionamos sobre los caminos que hemos recorrido, las decisiones que hemos tomado, y nos preguntamos si estamos en el lugar correcto, si somos quienes queremos ser.\n",
      "La naturaleza nos recuerda la belleza de la impermanencia.\n",
      "Los árboles cambian sus hojas, el río sigue su curso, y el cielo pinta nuevos paisajes cada día.\n",
      "Así también, nosotros debemos aprender a fluir con la vida, a aceptar los cambios, a abrazar lo desconocido con valentía y gratitud.\n"
     ]
    }
   ],
   "source": [
    "tokenize_sentence(text)"
   ]
  },
  {
   "cell_type": "code",
   "execution_count": 24,
   "metadata": {},
   "outputs": [
    {
     "name": "stdout",
     "output_type": "stream",
     "text": [
      "La vida constante devenir flujo interminable momentos escapan manos agua dedos A veces quietud noche damos cuenta cada segundo pasa regalo oportunidad irrepetible ser sentir amar Reflexionamos caminos recorrido decisiones tomado preguntamos si lugar correcto si queremos ser La naturaleza recuerda belleza impermanencia Los árboles cambian hojas río sigue curso cielo pinta nuevos paisajes cada día Así debemos aprender fluir vida aceptar cambios abrazar desconocido valentía gratitud\n"
     ]
    }
   ],
   "source": [
    "filtering_removing(text)"
   ]
  },
  {
   "cell_type": "code",
   "execution_count": 25,
   "metadata": {},
   "outputs": [
    {
     "name": "stdout",
     "output_type": "stream",
     "text": [
      "La\n",
      "vida\n",
      "es\n",
      "un\n",
      "constante\n",
      "devenir\n",
      ",\n",
      "un\n",
      "flujo\n",
      "interminable\n",
      "de\n",
      "momentos\n",
      "que\n",
      "se\n",
      "escapan\n",
      "de\n",
      "nuestras\n",
      "manos\n",
      "como\n",
      "agua\n",
      "entre\n",
      "los\n",
      "dedos\n",
      ".\n",
      "A\n",
      "veces\n",
      ",\n",
      "en\n",
      "la\n",
      "quietud\n",
      "de\n",
      "la\n",
      "noche\n",
      ",\n",
      "nos\n",
      "damos\n",
      "cuenta\n",
      "de\n",
      "que\n",
      "cada\n",
      "segundo\n",
      "que\n",
      "pasa\n",
      "es\n",
      "un\n",
      "regalo\n",
      ",\n",
      "una\n",
      "oportunidad\n",
      "irrepetible\n",
      "de\n",
      "ser\n",
      ",\n",
      "de\n",
      "sentir\n",
      ",\n",
      "de\n",
      "amar\n",
      ".\n",
      "Reflexionamos\n",
      "sobre\n",
      "los\n",
      "caminos\n",
      "que\n",
      "hemos\n",
      "recorrido\n",
      ",\n",
      "las\n",
      "decisiones\n",
      "que\n",
      "hemos\n",
      "tomado\n",
      ",\n",
      "y\n",
      "nos\n",
      "preguntamos\n",
      "si\n",
      "estamos\n",
      "en\n",
      "el\n",
      "lugar\n",
      "correcto\n",
      ",\n",
      "si\n",
      "somos\n",
      "quienes\n",
      "queremos\n",
      "ser\n",
      ".\n",
      "La\n",
      "naturaleza\n",
      "nos\n",
      "recuerda\n",
      "la\n",
      "belleza\n",
      "de\n",
      "la\n",
      "impermanencia\n",
      ".\n",
      "Los\n",
      "árboles\n",
      "cambian\n",
      "sus\n",
      "hojas\n",
      ",\n",
      "el\n",
      "río\n",
      "sigue\n",
      "su\n",
      "curso\n",
      ",\n",
      "y\n",
      "el\n",
      "cielo\n",
      "pinta\n",
      "nuevos\n",
      "paisajes\n",
      "cada\n",
      "día\n",
      ".\n",
      "Así\n",
      "también\n",
      ",\n",
      "nosotros\n",
      "debemos\n",
      "aprender\n",
      "a\n",
      "fluir\n",
      "con\n",
      "la\n",
      "vida\n",
      ",\n",
      "a\n",
      "aceptar\n",
      "los\n",
      "cambios\n",
      ",\n",
      "a\n",
      "abrazar\n",
      "lo\n",
      "desconocido\n",
      "con\n",
      "valentía\n",
      "y\n",
      "gratitud\n",
      ".\n"
     ]
    }
   ],
   "source": [
    "tokenize_words(text)"
   ]
  },
  {
   "cell_type": "code",
   "execution_count": null,
   "metadata": {},
   "outputs": [],
   "source": []
  }
 ],
 "metadata": {
  "kernelspec": {
   "display_name": "venvNaturalLenguageProcessing",
   "language": "python",
   "name": "python3"
  },
  "language_info": {
   "codemirror_mode": {
    "name": "ipython",
    "version": 3
   },
   "file_extension": ".py",
   "mimetype": "text/x-python",
   "name": "python",
   "nbconvert_exporter": "python",
   "pygments_lexer": "ipython3",
   "version": "3.12.4"
  }
 },
 "nbformat": 4,
 "nbformat_minor": 2
}
