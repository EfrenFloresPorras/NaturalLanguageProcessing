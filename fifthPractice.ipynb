{
 "cells": [
  {
   "cell_type": "code",
   "execution_count": 2,
   "metadata": {},
   "outputs": [
    {
     "name": "stderr",
     "output_type": "stream",
     "text": [
      "[nltk_data] Downloading package punkt to\n",
      "[nltk_data]     C:\\Users\\efren\\AppData\\Roaming\\nltk_data...\n",
      "[nltk_data]   Package punkt is already up-to-date!\n",
      "[nltk_data] Downloading package tagsets to\n",
      "[nltk_data]     C:\\Users\\efren\\AppData\\Roaming\\nltk_data...\n",
      "[nltk_data]   Package tagsets is already up-to-date!\n",
      "[nltk_data] Downloading package averaged_perceptron_tagger to\n",
      "[nltk_data]     C:\\Users\\efren\\AppData\\Roaming\\nltk_data...\n",
      "[nltk_data]   Package averaged_perceptron_tagger is already up-to-\n",
      "[nltk_data]       date!\n",
      "[nltk_data] Downloading package averaged_perceptron_tagger_eng to\n",
      "[nltk_data]     C:\\Users\\efren\\AppData\\Roaming\\nltk_data...\n",
      "[nltk_data]   Package averaged_perceptron_tagger_eng is already up-to-\n",
      "[nltk_data]       date!\n",
      "[nltk_data] Downloading package tagsets_json to\n",
      "[nltk_data]     C:\\Users\\efren\\AppData\\Roaming\\nltk_data...\n",
      "[nltk_data]   Package tagsets_json is already up-to-date!\n"
     ]
    },
    {
     "data": {
      "text/plain": [
       "True"
      ]
     },
     "execution_count": 2,
     "metadata": {},
     "output_type": "execute_result"
    }
   ],
   "source": [
    "import nltk\n",
    "nltk.download('punkt')\n",
    "nltk.download('tagsets')\n",
    "nltk.download('averaged_perceptron_tagger')\n",
    "nltk.download('averaged_perceptron_tagger_eng')\n",
    "nltk.download('tagsets_json')"
   ]
  },
  {
   "cell_type": "markdown",
   "metadata": {},
   "source": [
    "$ Part-of-Speech Tagging (POS)"
   ]
  },
  {
   "cell_type": "code",
   "execution_count": 3,
   "metadata": {},
   "outputs": [
    {
     "name": "stdout",
     "output_type": "stream",
     "text": [
      "JJ: adjective or numeral, ordinal\n",
      "    third ill-mannered pre-war regrettable oiled calamitous first separable\n",
      "    ectoplasmic battery-powered participatory fourth still-to-be-named\n",
      "    multilingual multi-disciplinary ...\n"
     ]
    }
   ],
   "source": [
    "# getting help about a specific category\n",
    "nltk.help.upenn_tagset('JJ')"
   ]
  },
  {
   "cell_type": "code",
   "execution_count": 4,
   "metadata": {},
   "outputs": [
    {
     "name": "stderr",
     "output_type": "stream",
     "text": [
      "<>:5: SyntaxWarning: invalid escape sequence '\\ '\n",
      "<>:5: SyntaxWarning: invalid escape sequence '\\ '\n",
      "C:\\Users\\efren\\AppData\\Local\\Temp\\ipykernel_40820\\1344582196.py:5: SyntaxWarning: invalid escape sequence '\\ '\n",
      "  text3 = \"Ethics are built right into the ideals and objectives of the United Nations \\ #UN #UNSG google.com bit.ly/2guVelr\"\n"
     ]
    }
   ],
   "source": [
    "# text in English\n",
    "# text\n",
    "text1 = \"Hello, Everybody. #Welcome to the NLP class, hope you enjoy it a lot. @ Remember to do all your activities and assigned homeworks. Have a nice day!!\"\n",
    "text2 = \"We don't read and write poetry because it's cute. We read and write poetry because we are members of the human race. And the human race is filled with passion. And medicine, law, business, engineering, these are noble pursuits and necessary to sustain life. But poetry, beauty, romance, love, these are what we stay alive for. To quote from Whitman, O me! O life!... of the questions of these recurring; of the endless trains of the faithless... of cities filled with the foolish; what good amid these, O me, O life? Answer. That you are here - that life exists, and identity; that the powerful play goes on and you may contribute a verse. That the powerful play goes on and you may contribute a verse. What will your verse be?\"\n",
    "text3 = \"Ethics are built right into the ideals and objectives of the United Nations \\ #UN #UNSG google.com bit.ly/2guVelr\"\n",
    "text4 = \"To be or not to be, that is the question.\""
   ]
  },
  {
   "cell_type": "code",
   "execution_count": 5,
   "metadata": {},
   "outputs": [],
   "source": [
    "texto1 = \"Hola, a todos. #Bienvenidos a la clase de NLP, espero que la disfruten mucho. @ Recuerden hacer todas sus actividades y tareas asignadas. ¡Que tengan un buen día!\""
   ]
  },
  {
   "cell_type": "code",
   "execution_count": 6,
   "metadata": {},
   "outputs": [],
   "source": [
    "text_token1 = nltk.word_tokenize(text1)\n",
    "text_token2 = nltk.word_tokenize(text2)\n",
    "text_token3 = nltk.word_tokenize(text3)\n",
    "text_token4 = nltk.word_tokenize(text4)"
   ]
  },
  {
   "cell_type": "code",
   "execution_count": 7,
   "metadata": {},
   "outputs": [],
   "source": [
    "texto_token1 = nltk.word_tokenize(texto1)"
   ]
  },
  {
   "cell_type": "code",
   "execution_count": 8,
   "metadata": {},
   "outputs": [
    {
     "name": "stdout",
     "output_type": "stream",
     "text": [
      "[('Hello', 'NNP'), (',', ','), ('Everybody', 'NNP'), ('.', '.'), ('#', '#'), ('Welcome', 'NNP'), ('to', 'TO'), ('the', 'DT'), ('NLP', 'NNP'), ('class', 'NN'), (',', ','), ('hope', 'VBP'), ('you', 'PRP'), ('enjoy', 'VBP'), ('it', 'PRP'), ('a', 'DT'), ('lot', 'NN'), ('.', '.'), ('@', 'JJ'), ('Remember', 'NNP'), ('to', 'TO'), ('do', 'VB'), ('all', 'DT'), ('your', 'PRP$'), ('activities', 'NNS'), ('and', 'CC'), ('assigned', 'VBN'), ('homeworks', 'NNS'), ('.', '.'), ('Have', 'VBP'), ('a', 'DT'), ('nice', 'JJ'), ('day', 'NN'), ('!', '.'), ('!', '.')]\n",
      "[('We', 'PRP'), ('do', 'VBP'), (\"n't\", 'RB'), ('read', 'VB'), ('and', 'CC'), ('write', 'VB'), ('poetry', 'NN'), ('because', 'IN'), ('it', 'PRP'), (\"'s\", 'VBZ'), ('cute', 'JJ'), ('.', '.'), ('We', 'PRP'), ('read', 'VBD'), ('and', 'CC'), ('write', 'JJ'), ('poetry', 'NN'), ('because', 'IN'), ('we', 'PRP'), ('are', 'VBP'), ('members', 'NNS'), ('of', 'IN'), ('the', 'DT'), ('human', 'JJ'), ('race', 'NN'), ('.', '.'), ('And', 'CC'), ('the', 'DT'), ('human', 'JJ'), ('race', 'NN'), ('is', 'VBZ'), ('filled', 'VBN'), ('with', 'IN'), ('passion', 'NN'), ('.', '.'), ('And', 'CC'), ('medicine', 'NN'), (',', ','), ('law', 'NN'), (',', ','), ('business', 'NN'), (',', ','), ('engineering', 'NN'), (',', ','), ('these', 'DT'), ('are', 'VBP'), ('noble', 'JJ'), ('pursuits', 'NNS'), ('and', 'CC'), ('necessary', 'JJ'), ('to', 'TO'), ('sustain', 'VB'), ('life', 'NN'), ('.', '.'), ('But', 'CC'), ('poetry', 'NN'), (',', ','), ('beauty', 'NN'), (',', ','), ('romance', 'NN'), (',', ','), ('love', 'NN'), (',', ','), ('these', 'DT'), ('are', 'VBP'), ('what', 'WP'), ('we', 'PRP'), ('stay', 'VBP'), ('alive', 'JJ'), ('for', 'IN'), ('.', '.'), ('To', 'TO'), ('quote', 'VB'), ('from', 'IN'), ('Whitman', 'NNP'), (',', ','), ('O', 'NNP'), ('me', 'PRP'), ('!', '.'), ('O', 'NNP'), ('life', 'NN'), ('!', '.'), ('...', ':'), ('of', 'IN'), ('the', 'DT'), ('questions', 'NNS'), ('of', 'IN'), ('these', 'DT'), ('recurring', 'VBG'), (';', ':'), ('of', 'IN'), ('the', 'DT'), ('endless', 'JJ'), ('trains', 'NNS'), ('of', 'IN'), ('the', 'DT'), ('faithless', 'NN'), ('...', ':'), ('of', 'IN'), ('cities', 'NNS'), ('filled', 'VBN'), ('with', 'IN'), ('the', 'DT'), ('foolish', 'JJ'), (';', ':'), ('what', 'WP'), ('good', 'VBD'), ('amid', 'IN'), ('these', 'DT'), (',', ','), ('O', 'NNP'), ('me', 'PRP'), (',', ','), ('O', 'NNP'), ('life', 'NN'), ('?', '.'), ('Answer', 'NNP'), ('.', '.'), ('That', 'IN'), ('you', 'PRP'), ('are', 'VBP'), ('here', 'RB'), ('-', ':'), ('that', 'IN'), ('life', 'NN'), ('exists', 'NNS'), (',', ','), ('and', 'CC'), ('identity', 'NN'), (';', ':'), ('that', 'IN'), ('the', 'DT'), ('powerful', 'JJ'), ('play', 'NN'), ('goes', 'VBZ'), ('on', 'IN'), ('and', 'CC'), ('you', 'PRP'), ('may', 'MD'), ('contribute', 'VB'), ('a', 'DT'), ('verse', 'NN'), ('.', '.'), ('That', 'IN'), ('the', 'DT'), ('powerful', 'JJ'), ('play', 'NN'), ('goes', 'VBZ'), ('on', 'IN'), ('and', 'CC'), ('you', 'PRP'), ('may', 'MD'), ('contribute', 'VB'), ('a', 'DT'), ('verse', 'NN'), ('.', '.'), ('What', 'WP'), ('will', 'MD'), ('your', 'PRP$'), ('verse', 'NN'), ('be', 'VB'), ('?', '.')]\n",
      "[('Ethics', 'NNS'), ('are', 'VBP'), ('built', 'VBN'), ('right', 'RB'), ('into', 'IN'), ('the', 'DT'), ('ideals', 'NNS'), ('and', 'CC'), ('objectives', 'NNS'), ('of', 'IN'), ('the', 'DT'), ('United', 'NNP'), ('Nations', 'NNP'), ('\\\\', 'NNP'), ('#', '#'), ('UN', 'NNP'), ('#', '#'), ('UNSG', 'NNP'), ('google.com', 'NN'), ('bit.ly/2guVelr', 'NN')]\n",
      "[('To', 'TO'), ('be', 'VB'), ('or', 'CC'), ('not', 'RB'), ('to', 'TO'), ('be', 'VB'), (',', ','), ('that', 'DT'), ('is', 'VBZ'), ('the', 'DT'), ('question', 'NN'), ('.', '.')]\n"
     ]
    }
   ],
   "source": [
    "print(nltk.pos_tag(text_token1))\n",
    "print(nltk.pos_tag(text_token2))\n",
    "print(nltk.pos_tag(text_token3))\n",
    "print(nltk.pos_tag(text_token4))"
   ]
  },
  {
   "cell_type": "code",
   "execution_count": 9,
   "metadata": {},
   "outputs": [
    {
     "name": "stdout",
     "output_type": "stream",
     "text": [
      "[('Hola', 'NNP'), (',', ','), ('a', 'DT'), ('todos', 'NN'), ('.', '.'), ('#', '#'), ('Bienvenidos', 'NNP'), ('a', 'DT'), ('la', 'JJ'), ('clase', 'NN'), ('de', 'FW'), ('NLP', 'NNP'), (',', ','), ('espero', 'NN'), ('que', 'NN'), ('la', 'NN'), ('disfruten', 'JJ'), ('mucho', 'NN'), ('.', '.'), ('@', 'CC'), ('Recuerden', 'NNP'), ('hacer', 'NN'), ('todas', 'NNS'), ('sus', 'VBP'), ('actividades', 'NNS'), ('y', 'VBP'), ('tareas', 'JJ'), ('asignadas', 'NN'), ('.', '.'), ('¡Que', 'CC'), ('tengan', 'JJ'), ('un', 'JJ'), ('buen', 'NN'), ('día', 'NN'), ('!', '.')]\n"
     ]
    }
   ],
   "source": [
    "print(nltk.pos_tag(texto_token1))"
   ]
  },
  {
   "cell_type": "markdown",
   "metadata": {},
   "source": [
    "# Synthetic Parsing"
   ]
  },
  {
   "cell_type": "code",
   "execution_count": 10,
   "metadata": {},
   "outputs": [
    {
     "name": "stdout",
     "output_type": "stream",
     "text": [
      "[('We', 'PRP'), ('do', 'VBP'), (\"n't\", 'RB'), ('read', 'VB'), ('and', 'CC'), ('write', 'VB'), ('poetry', 'NN'), ('because', 'IN'), ('it', 'PRP'), (\"'s\", 'VBZ'), ('cute', 'JJ'), ('.', '.'), ('We', 'PRP'), ('read', 'VBD'), ('and', 'CC'), ('write', 'JJ'), ('poetry', 'NN'), ('because', 'IN'), ('we', 'PRP'), ('are', 'VBP'), ('members', 'NNS'), ('of', 'IN'), ('the', 'DT'), ('human', 'JJ'), ('race', 'NN'), ('.', '.'), ('And', 'CC'), ('the', 'DT'), ('human', 'JJ'), ('race', 'NN'), ('is', 'VBZ'), ('filled', 'VBN'), ('with', 'IN'), ('passion', 'NN'), ('.', '.'), ('And', 'CC'), ('medicine', 'NN'), (',', ','), ('law', 'NN'), (',', ','), ('business', 'NN'), (',', ','), ('engineering', 'NN'), (',', ','), ('these', 'DT'), ('are', 'VBP'), ('noble', 'JJ'), ('pursuits', 'NNS'), ('and', 'CC'), ('necessary', 'JJ'), ('to', 'TO'), ('sustain', 'VB'), ('life', 'NN'), ('.', '.'), ('But', 'CC'), ('poetry', 'NN'), (',', ','), ('beauty', 'NN'), (',', ','), ('romance', 'NN'), (',', ','), ('love', 'NN'), (',', ','), ('these', 'DT'), ('are', 'VBP'), ('what', 'WP'), ('we', 'PRP'), ('stay', 'VBP'), ('alive', 'JJ'), ('for', 'IN'), ('.', '.'), ('To', 'TO'), ('quote', 'VB'), ('from', 'IN'), ('Whitman', 'NNP'), (',', ','), ('O', 'NNP'), ('me', 'PRP'), ('!', '.'), ('O', 'NNP'), ('life', 'NN'), ('!', '.'), ('...', ':'), ('of', 'IN'), ('the', 'DT'), ('questions', 'NNS'), ('of', 'IN'), ('these', 'DT'), ('recurring', 'VBG'), (';', ':'), ('of', 'IN'), ('the', 'DT'), ('endless', 'JJ'), ('trains', 'NNS'), ('of', 'IN'), ('the', 'DT'), ('faithless', 'NN'), ('...', ':'), ('of', 'IN'), ('cities', 'NNS'), ('filled', 'VBN'), ('with', 'IN'), ('the', 'DT'), ('foolish', 'JJ'), (';', ':'), ('what', 'WP'), ('good', 'VBD'), ('amid', 'IN'), ('these', 'DT'), (',', ','), ('O', 'NNP'), ('me', 'PRP'), (',', ','), ('O', 'NNP'), ('life', 'NN'), ('?', '.'), ('Answer', 'NNP'), ('.', '.'), ('That', 'IN'), ('you', 'PRP'), ('are', 'VBP'), ('here', 'RB'), ('-', ':'), ('that', 'IN'), ('life', 'NN'), ('exists', 'NNS'), (',', ','), ('and', 'CC'), ('identity', 'NN'), (';', ':'), ('that', 'IN'), ('the', 'DT'), ('powerful', 'JJ'), ('play', 'NN'), ('goes', 'VBZ'), ('on', 'IN'), ('and', 'CC'), ('you', 'PRP'), ('may', 'MD'), ('contribute', 'VB'), ('a', 'DT'), ('verse', 'NN'), ('.', '.'), ('That', 'IN'), ('the', 'DT'), ('powerful', 'JJ'), ('play', 'NN'), ('goes', 'VBZ'), ('on', 'IN'), ('and', 'CC'), ('you', 'PRP'), ('may', 'MD'), ('contribute', 'VB'), ('a', 'DT'), ('verse', 'NN'), ('.', '.'), ('What', 'WP'), ('will', 'MD'), ('your', 'PRP$'), ('verse', 'NN'), ('be', 'VB'), ('?', '.')]\n",
      "(S\n",
      "  We/PRP\n",
      "  do/VBP\n",
      "  n't/RB\n",
      "  read/VB\n",
      "  and/CC\n",
      "  write/VB\n",
      "  (NP poetry/NN)\n",
      "  because/IN\n",
      "  it/PRP\n",
      "  's/VBZ\n",
      "  cute/JJ\n",
      "  ./.\n",
      "  We/PRP\n",
      "  read/VBD\n",
      "  and/CC\n",
      "  (NP write/JJ poetry/NN)\n",
      "  because/IN\n",
      "  we/PRP\n",
      "  are/VBP\n",
      "  members/NNS\n",
      "  of/IN\n",
      "  (NP the/DT human/JJ race/NN)\n",
      "  ./.\n",
      "  And/CC\n",
      "  (NP the/DT human/JJ race/NN)\n",
      "  is/VBZ\n",
      "  filled/VBN\n",
      "  with/IN\n",
      "  (NP passion/NN)\n",
      "  ./.\n",
      "  And/CC\n",
      "  (NP medicine/NN)\n",
      "  ,/,\n",
      "  (NP law/NN)\n",
      "  ,/,\n",
      "  (NP business/NN)\n",
      "  ,/,\n",
      "  (NP engineering/NN)\n",
      "  ,/,\n",
      "  these/DT\n",
      "  are/VBP\n",
      "  noble/JJ\n",
      "  pursuits/NNS\n",
      "  and/CC\n",
      "  necessary/JJ\n",
      "  to/TO\n",
      "  sustain/VB\n",
      "  (NP life/NN)\n",
      "  ./.\n",
      "  But/CC\n",
      "  (NP poetry/NN)\n",
      "  ,/,\n",
      "  (NP beauty/NN)\n",
      "  ,/,\n",
      "  (NP romance/NN)\n",
      "  ,/,\n",
      "  (NP love/NN)\n",
      "  ,/,\n",
      "  these/DT\n",
      "  are/VBP\n",
      "  what/WP\n",
      "  we/PRP\n",
      "  stay/VBP\n",
      "  alive/JJ\n",
      "  for/IN\n",
      "  ./.\n",
      "  To/TO\n",
      "  quote/VB\n",
      "  from/IN\n",
      "  Whitman/NNP\n",
      "  ,/,\n",
      "  O/NNP\n",
      "  me/PRP\n",
      "  !/.\n",
      "  O/NNP\n",
      "  (NP life/NN)\n",
      "  !/.\n",
      "  .../:\n",
      "  of/IN\n",
      "  the/DT\n",
      "  questions/NNS\n",
      "  of/IN\n",
      "  these/DT\n",
      "  recurring/VBG\n",
      "  ;/:\n",
      "  of/IN\n",
      "  the/DT\n",
      "  endless/JJ\n",
      "  trains/NNS\n",
      "  of/IN\n",
      "  (NP the/DT faithless/NN)\n",
      "  .../:\n",
      "  of/IN\n",
      "  cities/NNS\n",
      "  filled/VBN\n",
      "  with/IN\n",
      "  the/DT\n",
      "  foolish/JJ\n",
      "  ;/:\n",
      "  what/WP\n",
      "  good/VBD\n",
      "  amid/IN\n",
      "  these/DT\n",
      "  ,/,\n",
      "  O/NNP\n",
      "  me/PRP\n",
      "  ,/,\n",
      "  O/NNP\n",
      "  (NP life/NN)\n",
      "  ?/.\n",
      "  Answer/NNP\n",
      "  ./.\n",
      "  That/IN\n",
      "  you/PRP\n",
      "  are/VBP\n",
      "  here/RB\n",
      "  -/:\n",
      "  that/IN\n",
      "  (NP life/NN)\n",
      "  exists/NNS\n",
      "  ,/,\n",
      "  and/CC\n",
      "  (NP identity/NN)\n",
      "  ;/:\n",
      "  that/IN\n",
      "  (NP the/DT powerful/JJ play/NN)\n",
      "  goes/VBZ\n",
      "  on/IN\n",
      "  and/CC\n",
      "  you/PRP\n",
      "  may/MD\n",
      "  contribute/VB\n",
      "  (NP a/DT verse/NN)\n",
      "  ./.\n",
      "  That/IN\n",
      "  (NP the/DT powerful/JJ play/NN)\n",
      "  goes/VBZ\n",
      "  on/IN\n",
      "  and/CC\n",
      "  you/PRP\n",
      "  may/MD\n",
      "  contribute/VB\n",
      "  (NP a/DT verse/NN)\n",
      "  ./.\n",
      "  What/WP\n",
      "  will/MD\n",
      "  your/PRP$\n",
      "  (NP verse/NN)\n",
      "  be/VB\n",
      "  ?/.)\n"
     ]
    }
   ],
   "source": [
    "# Synthetic Parsing\n",
    "\n",
    "def SynParsing(text):\n",
    "    text_token = nltk.word_tokenize(text)\n",
    "    text_tagged = nltk.pos_tag(text_token)\n",
    "    print(text_tagged)\n",
    "    grammar = \"NP: {<DT>?<JJ>*<NN>}\"\n",
    "    cp = nltk.RegexpParser(grammar)\n",
    "    result = cp.parse(text_tagged)\n",
    "    print(result)\n",
    "\n",
    "SynParsing(text2)"
   ]
  },
  {
   "cell_type": "code",
   "execution_count": null,
   "metadata": {},
   "outputs": [],
   "source": []
  }
 ],
 "metadata": {
  "kernelspec": {
   "display_name": "venvNaturalLenguageProcessing",
   "language": "python",
   "name": "python3"
  },
  "language_info": {
   "codemirror_mode": {
    "name": "ipython",
    "version": 3
   },
   "file_extension": ".py",
   "mimetype": "text/x-python",
   "name": "python",
   "nbconvert_exporter": "python",
   "pygments_lexer": "ipython3",
   "version": "3.12.4"
  }
 },
 "nbformat": 4,
 "nbformat_minor": 2
}
